{
  "nbformat": 4,
  "nbformat_minor": 0,
  "metadata": {
    "colab": {
      "provenance": []
    },
    "kernelspec": {
      "name": "python3",
      "display_name": "Python 3"
    },
    "language_info": {
      "name": "python"
    }
  },
  "cells": [
    {
      "cell_type": "markdown",
      "source": [
        "#  <font color='Orange' size=\"33\" type=\"Arial Black\">ML-</font><font color='blue' font-backgroun=\"red\" size='33'>O</Font><font color='Orange' size='33'>ne</font> <font color=\"grey\" size='3'> Powered by Bubblspace.com</font>\n",
        "\n",
        "<!--\n",
        "<a href=\"https://bubblspace.com\"> <img src=\"https://mybubblpublic.s3.ap-south-1.amazonaws.com/BubblLogZoomed.png\" height=\"80\" width=\"80\" alt=\"AI\"></a> -->\n",
        "\n",
        "## Tier 1 Basic\n",
        "\n",
        "<img src= \"https://mybubblpublic.s3.ap-south-1.amazonaws.com/FireHackerPhoto_001.png\" width=\"300px\" height=\"300px\">\n",
        "\n",
        "\n",
        "###Lesson 3: Chocolate Chip Muffin\n",
        "- Multi Threaading in Python\n",
        "- Numpy\n",
        "- Python Parallel Computing\n",
        "- GIL गेला ❎ End of GIL in Python 🐍\n",
        "\n",
        "\n",
        "<!-- <img src=\"https://storage.googleapis.com/aiedx-public/muffin-Art.png\" height=\"60\" width=\"60\"> -->"
      ],
      "metadata": {
        "id": "0_dLq1sikjL9"
      }
    },
    {
      "cell_type": "markdown",
      "source": [
        "## Simple Parallel Processing example with process id printed across"
      ],
      "metadata": {
        "id": "JzUNdmiRRjBs"
      }
    },
    {
      "cell_type": "code",
      "source": [
        "from multiprocessing import Process\n",
        "import os\n",
        "\n",
        "def info(title):\n",
        "    print('\\nTitle:',title )\n",
        "    print('module name:', __name__)\n",
        "    print('parent process:', os.getppid())\n",
        "    print('process id:', os.getpid())\n",
        "\n",
        "def f(name):\n",
        "    info('function f')\n",
        "    print('hello', name)\n",
        "\n",
        "if __name__ == '__main__':\n",
        "    info('\\n Maile Line ==> GIL गेला ❎ End of GIL in Python 🐍')\n",
        "    p = Process(target=f, args=('bob',))\n",
        "    p.start()\n",
        "    p.join()"
      ],
      "metadata": {
        "id": "SOYXotP_ks9v",
        "colab": {
          "base_uri": "https://localhost:8080/"
        },
        "outputId": "c70b13a5-68c3-429a-894a-b14243c0e329"
      },
      "execution_count": 20,
      "outputs": [
        {
          "output_type": "stream",
          "name": "stdout",
          "text": [
            "\n",
            "Title: \n",
            " Maile Line ==> GIL गेला ❎ End of GIL in Python 🐍\n",
            "module name: __main__\n",
            "parent process: 77\n",
            "process id: 159\n",
            "\n",
            "Title: function f\n",
            "module name: __main__\n",
            "parent process: 159\n",
            "process id: 9573\n",
            "hello bob\n"
          ]
        }
      ]
    }
  ]
}