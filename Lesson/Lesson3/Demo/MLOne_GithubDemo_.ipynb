{
  "nbformat": 4,
  "nbformat_minor": 0,
  "metadata": {
    "colab": {
      "name": "MLOne_GithubDemo_.ipynb",
      "provenance": [],
      "collapsed_sections": [
        "_a20tSuuYF5y"
      ],
      "toc_visible": true
    },
    "kernelspec": {
      "name": "python3",
      "display_name": "Python 3"
    },
    "accelerator": "GPU"
  },
  "cells": [
    {
      "cell_type": "markdown",
      "metadata": {
        "id": "Dc5cl3w1d3yz",
        "colab_type": "text"
      },
      "source": [
        ""
      ]
    },
    {
      "cell_type": "code",
      "metadata": {
        "id": "aWWblvb4XzUW",
        "colab_type": "code",
        "cellView": "form",
        "colab": {}
      },
      "source": [
        "#@title Copyright 2020 AIEDX. Double-click here for license information.\n",
        "# Licensed under the Apache License, Version 2.0 (the \"License\");\n",
        "# you may not use this file except in compliance with the License.\n",
        "# You may obtain a copy of the License at\n",
        "#\n",
        "# https://www.apache.org/licenses/LICENSE-2.0\n",
        "#\n",
        "# Unless required by applicable law or agreed to in writing, software\n",
        "# distributed under the License is distributed on an \"AS IS\" BASIS,\n",
        "# WITHOUT WARRANTIES OR CONDITIONS OF ANY KIND, either express or implied.\n",
        "# See the License for the specific language governing permissions and\n",
        "# limitations under the License."
      ],
      "execution_count": 0,
      "outputs": []
    },
    {
      "cell_type": "markdown",
      "metadata": {
        "id": "fUMTHk7PaaxX",
        "colab_type": "text"
      },
      "source": [
        "#  <font color='Orange' size=\"33\" type=\"Arial Black\">ML-</font><font color='blue' font-backgroun=\"red\" size='33'>O</Font><font color='Orange' size='33'>ne</font> <font color=\"grey\" size='3'> Powered by AIEdX</font>\n",
        "\n",
        "\n",
        "<img src=\"https://storage.googleapis.com/aiedx-public/AIEDX_logo%20-Favicon.jpg\" height=\"80\" width=\"80\">\n",
        "\n",
        "\n",
        "## Tier 1 Basic\n",
        "\n",
        "###Lesson 3: Chocolate Chip Muffin\n",
        "\n",
        "<img src=\"https://storage.googleapis.com/aiedx-public/muffin-Art.png\" height=\"60\" width=\"60\">"
      ]
    },
    {
      "cell_type": "markdown",
      "metadata": {
        "id": "jLzV9HaziQGO",
        "colab_type": "text"
      },
      "source": [
        "# New Section"
      ]
    },
    {
      "cell_type": "markdown",
      "metadata": {
        "id": "_a20tSuuYF5y",
        "colab_type": "text"
      },
      "source": [
        "\n",
        "# I am on github but I can come to colab if you type below command\n",
        "\n",
        "*   List item\n",
        "*   List item\n",
        "\n"
      ]
    },
    {
      "cell_type": "markdown",
      "metadata": {
        "id": "dhIPJJleYqz0",
        "colab_type": "text"
      },
      "source": [
        ""
      ]
    }
  ]
}